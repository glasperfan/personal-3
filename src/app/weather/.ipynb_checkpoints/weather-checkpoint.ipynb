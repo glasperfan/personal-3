{
 "cells": [
  {
   "cell_type": "markdown",
   "metadata": {},
   "source": [
    "# Redmond weather prediction\n",
    "![Redmond forecast for April 20, 2017 at 10pm](forecast.png)"
   ]
  },
  {
   "cell_type": "markdown",
   "metadata": {},
   "source": [
    "### Resources\n",
    "\n",
    "- [Weather prediction: It's math!](http://www.noaa.gov/stories/weather-prediction-its-math) (*NOAA.gov*; May 11, 2016)\n",
    "- [Why weather forecasts are so often wrong](http://www.economist.com/blogs/economist-explains/2016/06/economist-explains-10) (*The Economist*; June 19, 2016)\n",
    "- [About the NOAA's National Weather Service](http://www.weather.gov/about) (*weather.gov*)\n",
    "- [NOAA completes weather and climate supercomputer upgrades](http://www.noaanews.noaa.gov/stories2016/011116-noaa-completes-weather-and-climate-supercomputer-upgrades.html) (*NOAA.gov*; January 11, 2016)\n",
    "- [Global accuracy at a local level](http://www.metoffice.gov.uk/about-us/who/accuracy/forecasts) (*metoffice.gov.uk*; April 5, 2017)\n",
    "- [How much do you trust the Met Office?](http://www.metoffice.gov.uk/about-us/who/accuracy/trust) (*metoffice.gov.uk*; April 5, 2017)\n",
    "- [ForecastWatch Three Region Overview, 2010-2016](http://forecastwatch.com/static/Three_Region_Overview_2010_201606.pdf) (*forecastwatch.com*; December 2016)\n",
    "- [We can only forecast the weather a few days into the future](http://www.randalolson.com/2014/06/21/we-can-only-forecast-the-weather-a-few-days-into-the-future/) (*randalolson.com*; June 21, 2014)\n",
    "- [Accuracy of three major weather forecasting services](http://www.randalolson.com/2014/06/21/accuracy-of-three-major-weather-forecasting-services/) (*randalolson.com*; June 21, 2014)\n",
    "- [The Weatherman Is Not a Moron](http://www.nytimes.com/2012/09/09/magazine/the-weatherman-is-not-a-moron.html) (NYT, Nate Silver; September 7, 2012)\n",
    "- [Time Series Analysis](https://www.empiwifo.uni-freiburg.de/lehre-teaching-1/summer-term-13/Material%20Time%20Series%20Analysis/classicalts) (University of Freiburg; July 23, 2013)"
   ]
  },
  {
   "cell_type": "markdown",
   "metadata": {},
   "source": [
    "## Background"
   ]
  },
  {
   "cell_type": "markdown",
   "metadata": {},
   "source": [
    "Despite the endless criticism of TV meterologists, weather prediction is essentially modeling a system with virtually infinite significant inputs and neverending sources of data.\n",
    "\n",
    "The National Weather Service (NWS), a component of the National Oceanic and Atmospheric Administration (NOAA) - itself, an Operating Unit of the US Department of Commerce - is responsible for collecting global data on weather, water, and climate data, as well as forecasting future weather conditions in order to ensure physical safety and economic security (hence, the Commerce association). The NOAA has 2 supercomputers churning away on weather data analysis, for a combined processing power of 5.78 petaflops. A petaflop, by the way, represents a *quadrillion* floating-point operations per second. In order to process real-time data from local observers, weather balloons, weather stations, planes, and satellites, a colossal amount of computer power is required to aggregrate and analyze it.\n",
    "\n",
    "These supercomputers are also powering many of the NOAA's numerical weather prediction (NWP) models. One example is the High-Resolution Rapid Refresh Model (HRRR), described [here](https://rapidrefresh.noaa.gov/hrrr/). This model gathers radar data both every 15 minutes on top of hourly data from another Rapid Refresh (RAP) model, offering a 4x boost in resolution with respect to speed and distance covered.\n",
    "\n",
    "### So how good are these models?\n",
    "A common but poor baseline for prediction is the historical average, which averages weather conditions over the same day (say, July 16th) for a series of years to predict conditions for the next occurrence of that date. It's poor because it assumes that weather is constant at the same time each year (July 16th, 2016 will be similar to July 16th, 2017), nor does it consider weather on the preceding days (July 14th, 15th, etc). For example, in his book, *The Signal and the Noise*, Nate Silver discusses weather forecasting and notes that historical temperature averages generate predictions with an average of 7&deg;F error - obviously, not great. What's more interesting is that **even commerical models fail to predict better than historical averages after about 10 days** (see chart [here](http://www.randalolson.com/2014/06/21/we-can-only-forecast-the-weather-a-few-days-into-the-future/)).\n",
    "\n",
    "Forecast Watch published a [December 2016 review](http://forecastwatch.com/static/Three_Region_Overview_2010_201606.pdf) of forecast accuracy for 3 regions (US, Europe, Asia-Pacific) that spanned the previous 6 years and collected over 150 million predictions from major national and international weather services. A \"correct prediction\" was defined as one of the following:\n",
    "- high temperature forecast &plusmn; 3&deg;F\n",
    "- low temperature forecast &plusmn; 3&deg;F\n",
    "- an icon/text forecast that correctly predicts precipitation (binary)\n",
    "\n",
    "We will look at U.S. results only. The Weather Channel, for example, had an accuracy rate of 76.21% in 2016 for 1 to 3 days out, growing from 72.08% in 2012. And The Weather Channel had the *highest* accuracy. World Weather Online predicted correctly only 63.56% for the same range of 1-3 days. Note that blind guessing does not represent 50% accuracy, as temperature $T$ is a continuous rather than binary variable. Accuracy then drops for predictions farther in the future. The Weather Channel scores 69.63% for 3-5 days out and 58.79% for 6-9 days out, each time claiming the title of highest accuracy for the category.\n",
    "\n",
    "Some services claim to have better results. The Met Office in the UK [boasts 92% accuracy](http://www.metoffice.gov.uk/about-us/who/accuracy/forecasts) with respect to next day temperature prediction within 2&deg; Celsius. Equally interesting is the high public confidence in Met Office predictions. A [February 2017 survey](http://www.metoffice.gov.uk/about-us/who/accuracy/trust) shows that 84% of British respondents trust the Met Office \"a lot\" or \"a little\", with 41% saying \"a lot\".\n",
    "\n",
    "Accuracy also varies depending on what weather condition you're predicting. For example, Nate Silver also shows that The Weather Service (over at [weather.gov](http://weather.gov)) is fairly precise about predicting precipitation. However, one must also consider the well-known phenomenon of *wet bias* - the over-prediction of rain due to the *lower cost* of over-prediction than under-prediction. People don't tend to mind a sunny day if it was predicted to be a rainy one, but they very much mind the opposite. Statistically speaking, if $\\hat{y}=1$ is our binary precipitation prediction (it will rain or not) and $y=1$ means that it actually rained, while $y=0$ means it did not rain, we say there is a higher cost associated with a false negative ($FN: \\hat{y}=0, y=1$) than a false positive ($FP : \\hat{y}=1, y=0$)."
   ]
  },
  {
   "cell_type": "markdown",
   "metadata": {},
   "source": [
    "### How far have we come?\n",
    "\n",
    "Nate Silver provides several pieces of data that suggest we are definitely improving:\n",
    "\n",
    "[1] The National Hurricane Center predicts where a hurricance will make landfall 3 days prior to the event. Over the past 25 years, its average error has fallen from 350 miles to 100 miles.\n",
    "\n",
    "[2] The chance of an American dying from a lightning strike has fallen from 1 in 400,000 to 1 in 11 million since 1940.\n",
    "\n",
    "[3] The National Weather Service average error when predicting high temperatures 3 days out has fallen from 6&deg;F to 3&deg;F since 1972.\n",
    "\n",
    "But prediction accuracy is far from ideal, and it can lead to devastating consequences in the form of unexpected earthquakes and tsunamis. The 2011 earthquake in Japan (9.0 on the Richter scale) is a case in point."
   ]
  },
  {
   "cell_type": "markdown",
   "metadata": {},
   "source": [
    "## Models"
   ]
  },
  {
   "cell_type": "markdown",
   "metadata": {},
   "source": [
    "We note that weather data is *time-series data*. It can be represented as a sequence of events $X$ where $X_t$ represents the realized event at time $t$. We assume that this series contains hidden patterns and random variations within it, which explain the events we observe. Our goal is to create a model that captures that hidden information.\n",
    "\n",
    "There are many ways to model time series data, from simple linear regression to recurrent neural networks and state space models. These models internally represent assumptions about what information we use to make our predictions. For example, we represent our prediction as a function of time t:\n",
    "$$X_t \\sim f(t)$$\n",
    "This is know as a component model. Alternatively, we can measure based on previously observed events.\n",
    "$$X_t \\sim f(X_{t_1}, X_{t_2},...,X_{t_k})$$\n",
    "\n",
    "We can define 4 components of a time-series:\n",
    "\n",
    "1) Trend (T)\n",
    "    - Long-term general change, observed over a year or more.\n",
    "2) Seasonality (S)\n",
    "    - Regular fluctuations of constant length, observed within a year.\n",
    "3) Cyclical variations (C)\n",
    "    - Semi-regular fluctuations, observed over a year or more. (i.e. business cycles)\n",
    "4) Irregularity (R)\n",
    "    - Random variations that represent the deviations from the underlying pattern\n",
    "    \n",
    "If we mathematically capture these 4 components, then we can derive a model from their combination.\n",
    "\n",
    "- Additive: $Y_t \\sim T_t + S_t + C_t + R_t$\n",
    "    - S, C, and R are *absolute* deviations from the trend.\n",
    "    - Trend is independent of the other factors.\n",
    "- Multiplcative: $Y_t \\sim T_t * S_t * C_t * R_t$\n",
    "    - S,C, and R are *relative* (percentage) deviations from the trend.\n",
    "    - Trend directly affects the intensity of the variations."
   ]
  },
  {
   "cell_type": "markdown",
   "metadata": {},
   "source": [
    "### Imports"
   ]
  },
  {
   "cell_type": "code",
   "execution_count": 78,
   "metadata": {
    "collapsed": true
   },
   "outputs": [],
   "source": [
    "import requests"
   ]
  },
  {
   "cell_type": "code",
   "execution_count": 2,
   "metadata": {
    "collapsed": true
   },
   "outputs": [],
   "source": [
    "APIKey = '9719836e70b7e20e'\n",
    "DocumentationURL = \"https://www.wunderground.com/weather/api/d/docs\""
   ]
  },
  {
   "cell_type": "code",
   "execution_count": 4,
   "metadata": {
    "collapsed": true
   },
   "outputs": [],
   "source": [
    "# forecast is 4-day\n",
    "forecastURL = \"http://api.wunderground.com/api/9719836e70b7e20e/forecast/q/WA/Redmond.json\"\n",
    "forecast10DayURL = \"http://api.wunderground.com/api/9719836e70b7e20e/forecast10day/q/WA/Redmond.json\"\n",
    "forecast = requests.get(forecastURL)\n",
    "forecast10Day = requests.get(forecast10DayURL)"
   ]
  },
  {
   "cell_type": "code",
   "execution_count": 36,
   "metadata": {
    "collapsed": false
   },
   "outputs": [
    {
     "name": "stdout",
     "output_type": "stream",
     "text": [
      "4 10\n"
     ]
    }
   ],
   "source": [
    "f4d = forecast.json()['forecast']['simpleforecast']['forecastday']\n",
    "f10d = forecast10Day.json()['forecast']['simpleforecast']['forecastday']\n",
    "print len(f4d), len(f10d)"
   ]
  },
  {
   "cell_type": "markdown",
   "metadata": {},
   "source": [
    "#### Example forecast"
   ]
  },
  {
   "cell_type": "code",
   "execution_count": 37,
   "metadata": {
    "collapsed": false
   },
   "outputs": [
    {
     "data": {
      "text/plain": [
       "{u'avehumidity': 82,\n",
       " u'avewind': {u'degrees': 195, u'dir': u'SSW', u'kph': 1, u'mph': 0},\n",
       " u'conditions': u'Chance of Rain',\n",
       " u'date': {u'ampm': u'PM',\n",
       "  u'day': 30,\n",
       "  u'epoch': u'1493604000',\n",
       "  u'hour': 19,\n",
       "  u'isdst': u'1',\n",
       "  u'min': u'00',\n",
       "  u'month': 4,\n",
       "  u'monthname': u'April',\n",
       "  u'monthname_short': u'Apr',\n",
       "  u'pretty': u'7:00 PM PDT on April 30, 2017',\n",
       "  u'sec': 0,\n",
       "  u'tz_long': u'America/Los_Angeles',\n",
       "  u'tz_short': u'PDT',\n",
       "  u'weekday': u'Sunday',\n",
       "  u'weekday_short': u'Sun',\n",
       "  u'yday': 119,\n",
       "  u'year': 2017},\n",
       " u'high': {u'celsius': u'11', u'fahrenheit': u'52'},\n",
       " u'icon': u'chancerain',\n",
       " u'icon_url': u'http://icons.wxug.com/i/c/k/chancerain.gif',\n",
       " u'low': {u'celsius': u'6', u'fahrenheit': u'43'},\n",
       " u'maxhumidity': 0,\n",
       " u'maxwind': {u'degrees': 0, u'dir': u'', u'kph': 0, u'mph': 0},\n",
       " u'minhumidity': 0,\n",
       " u'period': 1,\n",
       " u'pop': 30,\n",
       " u'qpf_allday': {u'in': 0.0, u'mm': 0},\n",
       " u'qpf_day': {u'in': None, u'mm': None},\n",
       " u'qpf_night': {u'in': 0.0, u'mm': 0},\n",
       " u'skyicon': u'',\n",
       " u'snow_allday': {u'cm': 0.0, u'in': 0.0},\n",
       " u'snow_day': {u'cm': None, u'in': None},\n",
       " u'snow_night': {u'cm': 0.0, u'in': 0.0}}"
      ]
     },
     "execution_count": 37,
     "metadata": {},
     "output_type": "execute_result"
    }
   ],
   "source": [
    "f4d[0]"
   ]
  },
  {
   "cell_type": "code",
   "execution_count": 49,
   "metadata": {
    "collapsed": true
   },
   "outputs": [],
   "source": [
    "# almanac\n",
    "almanac = requests.get(\"http://api.wunderground.com/api/9719836e70b7e20e/almanac/q/WA/Redmond.json\")"
   ]
  },
  {
   "cell_type": "code",
   "execution_count": 50,
   "metadata": {
    "collapsed": false
   },
   "outputs": [],
   "source": [
    "almJson = almanac.json()"
   ]
  },
  {
   "cell_type": "code",
   "execution_count": 51,
   "metadata": {
    "collapsed": false
   },
   "outputs": [
    {
     "data": {
      "text/plain": [
       "{u'almanac': {u'airport_code': u'KBFI',\n",
       "  u'temp_high': {u'normal': {u'C': u'16', u'F': u'62'},\n",
       "   u'record': {u'C': u'29', u'F': u'85'},\n",
       "   u'recordyear': u'1976'},\n",
       "  u'temp_low': {u'normal': {u'C': u'6', u'F': u'44'},\n",
       "   u'record': {u'C': u'0', u'F': u'32'},\n",
       "   u'recordyear': u'1954'}},\n",
       " u'response': {u'features': {u'almanac': 1},\n",
       "  u'termsofService': u'http://www.wunderground.com/weather/api/d/terms.html',\n",
       "  u'version': u'0.1'}}"
      ]
     },
     "execution_count": 51,
     "metadata": {},
     "output_type": "execute_result"
    }
   ],
   "source": [
    "almJson"
   ]
  },
  {
   "cell_type": "markdown",
   "metadata": {},
   "source": [
    "### Wrangling"
   ]
  },
  {
   "cell_type": "code",
   "execution_count": 158,
   "metadata": {
    "collapsed": true
   },
   "outputs": [],
   "source": [
    "TOTAL_CALLS = 0"
   ]
  },
  {
   "cell_type": "code",
   "execution_count": 159,
   "metadata": {
    "collapsed": false
   },
   "outputs": [],
   "source": [
    "import requests\n",
    "import json\n",
    "import os\n",
    "import time\n",
    "from datetime import date, timedelta\n",
    "\n",
    "# WeatherUnderground API tokens\n",
    "ApiBase = \"http://api.wunderground.com/api\"\n",
    "SecretKey = \"9719836e70b7e20e\"\n",
    "\n",
    "def generateAPIUrl(base, key, feature, city, state):\n",
    "    return '{0}/{1}/{2}/q/{3}/{4}.json'.format(base, key, feature, state, city)\n",
    "\n",
    "def get4DayForecast(city, state):\n",
    "    fcstUrl = generateAPIUrl(ApiBase, SecretKey, 'forecast', city, state)\n",
    "    return requests.get(fcstUrl).json()['forecast']['simpleforecast']['forecastday']\n",
    "\n",
    "def get10DayForecast(city, state):\n",
    "    fcstUrl = generateAPIUrl(ApiBase, SecretKey, 'forecast10day', city, state)\n",
    "    return requests.get(fcstUrl).json()['forecast']['simpleforecast']['forecastday']\n",
    "\n",
    "def getCurrentForecast(city, state):\n",
    "    fcstUrl = generateAPIUrl(ApiBase, SecretKey, 'forecast10day', city, state)\n",
    "    return requests.get(fcstUrl).json()\n",
    "\n",
    "def getWeatherForHistoricalDate(city, state, year, month, day):\n",
    "    feature = \"history_%04d%02d%02d\" % (year, month, day)\n",
    "    url = generateAPIUrl(ApiBase, SecretKey, feature, city, state)\n",
    "    return requests.get(url).json()\n",
    "\n",
    "# Set incl_end_date to True to include the end date in the list\n",
    "# Returns datetime.date objects\n",
    "def getDatesForRange(year_start, month_start, day_start, year_end, month_end, day_end, incl_end_date=False):\n",
    "    date_start = date(year_start, month_start, day_start)  # start date\n",
    "    date_end = date(year_end, month_end, day_end)          # end date\n",
    "    diff = date_end - date_start\n",
    "    num_days = diff.days + (1 if incl_end_date else 0)\n",
    "    return [date_start + timedelta(days=i) for i in range(num_days)]\n",
    "\n",
    "# Returns None if unable to write\n",
    "def writeJSON(data_obj, file_path):\n",
    "    try:\n",
    "        with open(file_path, 'w') as outfile:  \n",
    "            json.dump(data_obj, outfile)\n",
    "            return True\n",
    "    except:\n",
    "        return None\n",
    "\n",
    "# Returns None if file not found or unable to decode\n",
    "def readJSON(file_path):\n",
    "    try:\n",
    "        with open(file_path) as json_file:  \n",
    "            return json.load(json_file)\n",
    "    except:\n",
    "        return None\n",
    "\n",
    "def existsJSON(file_path):\n",
    "    return os.path.exists(file_path)\n",
    "    \n",
    "def createDirIfNotExists(directory):\n",
    "    if not os.path.exists(directory):\n",
    "        os.makedirs(directory)\n",
    "    \n",
    "# Due to WeatherUnderground API throttling, this limits requests to once per 8 seconds.\n",
    "# It also shuts down before the 24-hour limit is reached.\n",
    "# Checks for cached responses before firing a new one. Enable forceRefresh to ignore the cache.\n",
    "def getWeatherForHistoricalDateRange(city, state, year_start, month_start, day_start, year_end, \\\n",
    "                                     month_end, day_end, incl_end_date=False, outputDir='data', forceRefresh=False):\n",
    "    global TOTAL_CALLS\n",
    "    createDirIfNotExists(outputDir)\n",
    "    date_range = getDatesForRange(year_start, month_start, day_start, year_end, month_end, day_end, incl_end_date)\n",
    "    for d in date_range:\n",
    "        d_output_path = '{}/{}.json'.format(outputDir, str(d))\n",
    "        if not existsJSON(d_output_path) and not forceRefresh:\n",
    "            d_json = getWeatherForHistoricalDate(city, state, d.year, d.month, d.day)\n",
    "            TOTAL_CALLS += 1\n",
    "            writeJSON(d_json, d_output_path)\n",
    "            print 'Weather data for {} saved to {}'.format(str(d), d_output_path)\n",
    "            time.sleep(8)"
   ]
  },
  {
   "cell_type": "code",
   "execution_count": 160,
   "metadata": {
    "collapsed": false
   },
   "outputs": [
    {
     "data": {
      "text/plain": [
       "[datetime.date(2017, 5, 1),\n",
       " datetime.date(2017, 5, 2),\n",
       " datetime.date(2017, 5, 3),\n",
       " datetime.date(2017, 5, 4)]"
      ]
     },
     "execution_count": 160,
     "metadata": {},
     "output_type": "execute_result"
    }
   ],
   "source": [
    "getDatesForRange(2017, 5, 1, 2017, 5, 5)"
   ]
  },
  {
   "cell_type": "code",
   "execution_count": 161,
   "metadata": {
    "collapsed": false
   },
   "outputs": [
    {
     "ename": "UnboundLocalError",
     "evalue": "local variable 'TOTAL_CALLS' referenced before assignment",
     "output_type": "error",
     "traceback": [
      "\u001b[0;31m---------------------------------------------------------------------------\u001b[0m",
      "\u001b[0;31mUnboundLocalError\u001b[0m                         Traceback (most recent call last)",
      "\u001b[0;32m<ipython-input-161-5e1a6bbd7aff>\u001b[0m in \u001b[0;36m<module>\u001b[0;34m()\u001b[0m\n\u001b[0;32m----> 1\u001b[0;31m \u001b[0mgetWeatherForHistoricalDateRange\u001b[0m\u001b[0;34m(\u001b[0m\u001b[0;34m'Redmond'\u001b[0m\u001b[0;34m,\u001b[0m \u001b[0;34m'WA'\u001b[0m\u001b[0;34m,\u001b[0m \u001b[0;36m2014\u001b[0m\u001b[0;34m,\u001b[0m \u001b[0;36m5\u001b[0m\u001b[0;34m,\u001b[0m \u001b[0;36m1\u001b[0m\u001b[0;34m,\u001b[0m \u001b[0;36m2017\u001b[0m\u001b[0;34m,\u001b[0m \u001b[0;36m5\u001b[0m\u001b[0;34m,\u001b[0m \u001b[0;36m6\u001b[0m\u001b[0;34m,\u001b[0m \u001b[0mFalse\u001b[0m\u001b[0;34m)\u001b[0m\u001b[0;34m\u001b[0m\u001b[0m\n\u001b[0m",
      "\u001b[0;32m<ipython-input-159-d40661761555>\u001b[0m in \u001b[0;36mgetWeatherForHistoricalDateRange\u001b[0;34m(city, state, year_start, month_start, day_start, year_end, month_end, day_end, incl_end_date, outputDir, forceRefresh)\u001b[0m\n\u001b[1;32m     72\u001b[0m         \u001b[0;32mif\u001b[0m \u001b[0;32mnot\u001b[0m \u001b[0mexistsJSON\u001b[0m\u001b[0;34m(\u001b[0m\u001b[0md_output_path\u001b[0m\u001b[0;34m)\u001b[0m \u001b[0;32mand\u001b[0m \u001b[0;32mnot\u001b[0m \u001b[0mforceRefresh\u001b[0m\u001b[0;34m:\u001b[0m\u001b[0;34m\u001b[0m\u001b[0m\n\u001b[1;32m     73\u001b[0m             \u001b[0md_json\u001b[0m \u001b[0;34m=\u001b[0m \u001b[0mgetWeatherForHistoricalDate\u001b[0m\u001b[0;34m(\u001b[0m\u001b[0mcity\u001b[0m\u001b[0;34m,\u001b[0m \u001b[0mstate\u001b[0m\u001b[0;34m,\u001b[0m \u001b[0md\u001b[0m\u001b[0;34m.\u001b[0m\u001b[0myear\u001b[0m\u001b[0;34m,\u001b[0m \u001b[0md\u001b[0m\u001b[0;34m.\u001b[0m\u001b[0mmonth\u001b[0m\u001b[0;34m,\u001b[0m \u001b[0md\u001b[0m\u001b[0;34m.\u001b[0m\u001b[0mday\u001b[0m\u001b[0;34m)\u001b[0m\u001b[0;34m\u001b[0m\u001b[0m\n\u001b[0;32m---> 74\u001b[0;31m             \u001b[0mTOTAL_CALLS\u001b[0m \u001b[0;34m+=\u001b[0m \u001b[0;36m1\u001b[0m\u001b[0;34m\u001b[0m\u001b[0m\n\u001b[0m\u001b[1;32m     75\u001b[0m             \u001b[0mwriteJSON\u001b[0m\u001b[0;34m(\u001b[0m\u001b[0md_json\u001b[0m\u001b[0;34m,\u001b[0m \u001b[0md_output_path\u001b[0m\u001b[0;34m)\u001b[0m\u001b[0;34m\u001b[0m\u001b[0m\n\u001b[1;32m     76\u001b[0m             \u001b[0;32mprint\u001b[0m \u001b[0;34m'Weather data for {} saved to {}'\u001b[0m\u001b[0;34m.\u001b[0m\u001b[0mformat\u001b[0m\u001b[0;34m(\u001b[0m\u001b[0mstr\u001b[0m\u001b[0;34m(\u001b[0m\u001b[0md\u001b[0m\u001b[0;34m)\u001b[0m\u001b[0;34m,\u001b[0m \u001b[0md_output_path\u001b[0m\u001b[0;34m)\u001b[0m\u001b[0;34m\u001b[0m\u001b[0m\n",
      "\u001b[0;31mUnboundLocalError\u001b[0m: local variable 'TOTAL_CALLS' referenced before assignment"
     ]
    }
   ],
   "source": [
    "getWeatherForHistoricalDateRange('Redmond', 'WA', 2014, 5, 1, 2017, 5, 6, False)"
   ]
  },
  {
   "cell_type": "code",
   "execution_count": null,
   "metadata": {
    "collapsed": true
   },
   "outputs": [],
   "source": []
  }
 ],
 "metadata": {
  "kernelspec": {
   "display_name": "Python 2",
   "language": "python",
   "name": "python2"
  },
  "language_info": {
   "codemirror_mode": {
    "name": "ipython",
    "version": 2
   },
   "file_extension": ".py",
   "mimetype": "text/x-python",
   "name": "python",
   "nbconvert_exporter": "python",
   "pygments_lexer": "ipython2",
   "version": "2.7.13"
  }
 },
 "nbformat": 4,
 "nbformat_minor": 2
}
